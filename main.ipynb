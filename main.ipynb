{
 "cells": [
  {
   "cell_type": "code",
   "execution_count": 3,
   "metadata": {},
   "outputs": [],
   "source": [
    "from ollama import Client\n",
    "from programmer import Programmer\n",
    "from reviewer import Reviewer\n",
    "from prompt_master import PromptMaster\n",
    "from code_trainer import CodeTrainer"
   ]
  },
  {
   "cell_type": "code",
   "execution_count": null,
   "metadata": {},
   "outputs": [],
   "source": [
    "programmer = Programmer()\n",
    "reviewer = Reviewer()\n",
    "promptMaster = PromptMaster()\n",
    "\n",
    "main = CodeTrainer(programmer, reviewer, promptMaster)\n",
    "\n",
    "main.train('Given an array of integers nums and an integer target,\\\n",
    "            return indices of the two numbers such that they add up to target.\\\n",
    "            You may assume that each input would have exactly one solution,\\\n",
    "            and you may not use the same element twice. You can return the answer in any order.', 10)"
   ]
  },
  {
   "cell_type": "code",
   "execution_count": null,
   "metadata": {},
   "outputs": [],
   "source": [
    "main.test('Given an array of integers nums and an integer target,\\\n",
    "            return indices of the two numbers such that they add up to target.\\\n",
    "            You may assume that each input would have exactly one solution,\\\n",
    "            and you may not use the same element twice. You can return the answer in any order.')"
   ]
  }
 ],
 "metadata": {
  "kernelspec": {
   "display_name": "Python 3",
   "language": "python",
   "name": "python3"
  },
  "language_info": {
   "codemirror_mode": {
    "name": "ipython",
    "version": 3
   },
   "file_extension": ".py",
   "mimetype": "text/x-python",
   "name": "python",
   "nbconvert_exporter": "python",
   "pygments_lexer": "ipython3",
   "version": "3.11.9"
  }
 },
 "nbformat": 4,
 "nbformat_minor": 2
}
