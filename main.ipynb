{
 "cells": [
  {
   "cell_type": "code",
   "execution_count": 6,
   "metadata": {},
   "outputs": [],
   "source": [
    "from environment import Environment\n",
    "from programmer import Programmer\n",
    "from reviewer import Reviewer\n",
    "from prompt_master import PromptMaster\n",
    "\n",
    "import logging"
   ]
  },
  {
   "cell_type": "code",
   "execution_count": null,
   "metadata": {},
   "outputs": [],
   "source": [
    "# Configurar logging para exibir no console\n",
    "logging.basicConfig(level=logging.INFO, format='%(asctime)s - %(levelname)s - %(message)s')\n",
    "\n",
    "prompt_master = PromptMaster(epsilon=0.1)\n",
    "programmer = Programmer(prompt_master, epsilon=0.1)\n",
    "reviewer = Reviewer(prompt_master, epsilon=0.1)\n",
    "\n",
    "env = Environment(programmer, reviewer, prompt_master)"
   ]
  },
  {
   "cell_type": "code",
   "execution_count": 3,
   "metadata": {},
   "outputs": [],
   "source": [
    "problems = [\n",
    "        {\n",
    "            \"question\": \"Limpeza de dados: Dado um conjunto de dados de vendas, limpe e prepare os dados para análise.\",\n",
    "            \"data\": \"sales_data.csv\",\n",
    "            \"metrics\": {\n",
    "                \"accuracy\": True,\n",
    "                \"unit_tests\": True\n",
    "            }\n",
    "        },\n",
    "        {\n",
    "            \"question\": \"Visualização: Crie visualizações eficazes para o conjunto de dados de vendas.\",\n",
    "            \"data\": \"sales_data.csv\",\n",
    "            \"metrics\": {\n",
    "                \"accuracy\": True,\n",
    "                \"unit_tests\": False\n",
    "            }\n",
    "        },\n",
    "        {\n",
    "            \"question\": \"Análise Estatística: Realize uma análise estatística dos dados de vendas para identificar tendências.\",\n",
    "            \"data\": \"sales_data.csv\",\n",
    "            \"metrics\": {\n",
    "                \"accuracy\": True,\n",
    "                \"unit_tests\": False\n",
    "            }\n",
    "        }\n",
    "        # Adicione mais problemas conforme necessário\n",
    "    ]"
   ]
  },
  {
   "cell_type": "code",
   "execution_count": 5,
   "metadata": {},
   "outputs": [
    {
     "name": "stderr",
     "output_type": "stream",
     "text": [
      "2024-12-09 23:27:43,350 - INFO - Programador explorando com ação: Dica: Melhore a legibilidade do código adicionando comentários explicativos.\n"
     ]
    },
    {
     "name": "stdout",
     "output_type": "stream",
     "text": [
      "\n",
      "=== Epoch 1 ===\n",
      "\n",
      "--- Treinando com o problema: Limpeza de dados: Dado um conjunto de dados de vendas, limpe e prepare os dados para análise. ---\n"
     ]
    },
    {
     "name": "stderr",
     "output_type": "stream",
     "text": [
      "2024-12-09 23:28:05,648 - INFO - HTTP Request: POST http://localhost:11434/api/chat \"HTTP/1.1 200 OK\"\n"
     ]
    },
    {
     "name": "stdout",
     "output_type": "stream",
     "text": [
      "Código Gerado:\n",
      "Não há código para melhorar a legibilidade. Se você fornecer o código, ficarei feliz em ajudar!\n",
      "Execução do Código: Falha, Tempo: 0.24522686004638672, Output: File \"c:\\Users\\guibu\\OneDrive - Fundacao Getulio Vargas - FGV\\4o PERÍODO\\LLM-RL\\temp_code.py\", line 1\n",
      "    Não há código para melhorar a legibilidade. Se você fornecer o código, ficarei feliz em ajudar!\n",
      "        ^^\n",
      "SyntaxError: invalid syntax\n",
      "Pontuação do Código: 1.0\n"
     ]
    },
    {
     "ename": "AttributeError",
     "evalue": "'Reviewer' object has no attribute 'reviewer_reward_history'",
     "output_type": "error",
     "traceback": [
      "\u001b[1;31m---------------------------------------------------------------------------\u001b[0m",
      "\u001b[1;31mAttributeError\u001b[0m                            Traceback (most recent call last)",
      "Cell \u001b[1;32mIn[5], line 5\u001b[0m\n\u001b[0;32m      3\u001b[0m \u001b[38;5;28mprint\u001b[39m(\u001b[38;5;124mf\u001b[39m\u001b[38;5;124m\"\u001b[39m\u001b[38;5;130;01m\\n\u001b[39;00m\u001b[38;5;124m=== Epoch \u001b[39m\u001b[38;5;132;01m{\u001b[39;00mepoch\u001b[38;5;250m \u001b[39m\u001b[38;5;241m+\u001b[39m\u001b[38;5;250m \u001b[39m\u001b[38;5;241m1\u001b[39m\u001b[38;5;132;01m}\u001b[39;00m\u001b[38;5;124m ===\u001b[39m\u001b[38;5;124m\"\u001b[39m)\n\u001b[0;32m      4\u001b[0m \u001b[38;5;28;01mfor\u001b[39;00m problem \u001b[38;5;129;01min\u001b[39;00m problems:\n\u001b[1;32m----> 5\u001b[0m     \u001b[43menv\u001b[49m\u001b[38;5;241;43m.\u001b[39;49m\u001b[43mtrain\u001b[49m\u001b[43m(\u001b[49m\u001b[43mproblem\u001b[49m\u001b[43m)\u001b[49m\n",
      "File \u001b[1;32mc:\\Users\\guibu\\OneDrive - Fundacao Getulio Vargas - FGV\\4o PERÍODO\\LLM-RL\\environment.py:110\u001b[0m, in \u001b[0;36mEnvironment.train\u001b[1;34m(self, problem)\u001b[0m\n\u001b[0;32m    107\u001b[0m \u001b[38;5;28mprint\u001b[39m(\u001b[38;5;124mf\u001b[39m\u001b[38;5;124m\"\u001b[39m\u001b[38;5;124mPontuação do Código: \u001b[39m\u001b[38;5;132;01m{\u001b[39;00mcode_score\u001b[38;5;132;01m}\u001b[39;00m\u001b[38;5;124m\"\u001b[39m)\n\u001b[0;32m    109\u001b[0m \u001b[38;5;66;03m# Passo 3: Agente Revisor revisa o código\u001b[39;00m\n\u001b[1;32m--> 110\u001b[0m review, review_score \u001b[38;5;241m=\u001b[39m \u001b[38;5;28;43mself\u001b[39;49m\u001b[38;5;241;43m.\u001b[39;49m\u001b[43mreviewer\u001b[49m\u001b[38;5;241;43m.\u001b[39;49m\u001b[43mact\u001b[49m\u001b[43m(\u001b[49m\u001b[43mcode\u001b[49m\u001b[43m)\u001b[49m\n\u001b[0;32m    111\u001b[0m \u001b[38;5;28mprint\u001b[39m(\u001b[38;5;124mf\u001b[39m\u001b[38;5;124m\"\u001b[39m\u001b[38;5;124mRevisão:\u001b[39m\u001b[38;5;130;01m\\n\u001b[39;00m\u001b[38;5;132;01m{\u001b[39;00mreview\u001b[38;5;132;01m}\u001b[39;00m\u001b[38;5;124m\"\u001b[39m)\n\u001b[0;32m    112\u001b[0m \u001b[38;5;28mprint\u001b[39m(\u001b[38;5;124mf\u001b[39m\u001b[38;5;124m\"\u001b[39m\u001b[38;5;124mPontuação da Revisão: \u001b[39m\u001b[38;5;132;01m{\u001b[39;00mreview_score\u001b[38;5;132;01m}\u001b[39;00m\u001b[38;5;124m\"\u001b[39m)\n",
      "File \u001b[1;32mc:\\Users\\guibu\\OneDrive - Fundacao Getulio Vargas - FGV\\4o PERÍODO\\LLM-RL\\reviewer.py:52\u001b[0m, in \u001b[0;36mReviewer.act\u001b[1;34m(self, code, training)\u001b[0m\n\u001b[0;32m     51\u001b[0m \u001b[38;5;28;01mdef\u001b[39;00m \u001b[38;5;21mact\u001b[39m(\u001b[38;5;28mself\u001b[39m, code, training\u001b[38;5;241m=\u001b[39m\u001b[38;5;28;01mTrue\u001b[39;00m):\n\u001b[1;32m---> 52\u001b[0m     \u001b[38;5;28;43mself\u001b[39;49m\u001b[38;5;241;43m.\u001b[39;49m\u001b[43m_set_current_prompt\u001b[49m\u001b[43m(\u001b[49m\u001b[38;5;124;43m'\u001b[39;49m\u001b[38;5;124;43mREVIEW\u001b[39;49m\u001b[38;5;124;43m'\u001b[39;49m\u001b[43m,\u001b[49m\u001b[43m \u001b[49m\u001b[43mcode\u001b[49m\u001b[43m,\u001b[49m\u001b[43m \u001b[49m\u001b[38;5;124;43m'\u001b[39;49m\u001b[38;5;124;43m'\u001b[39;49m\u001b[43m)\u001b[49m\n\u001b[0;32m     53\u001b[0m     state \u001b[38;5;241m=\u001b[39m \u001b[38;5;28mself\u001b[39m\u001b[38;5;241m.\u001b[39mget_state(\u001b[38;5;124m'\u001b[39m\u001b[38;5;124mREVIEW\u001b[39m\u001b[38;5;124m'\u001b[39m)\n\u001b[0;32m     55\u001b[0m     \u001b[38;5;66;03m# Seleção de ação baseada na política epsilon-greedy\u001b[39;00m\n",
      "File \u001b[1;32mc:\\Users\\guibu\\OneDrive - Fundacao Getulio Vargas - FGV\\4o PERÍODO\\LLM-RL\\reviewer.py:48\u001b[0m, in \u001b[0;36mReviewer._set_current_prompt\u001b[1;34m(self, stage, code, review)\u001b[0m\n\u001b[0;32m     46\u001b[0m         \u001b[38;5;28mself\u001b[39m\u001b[38;5;241m.\u001b[39mcurrent_prompt \u001b[38;5;241m+\u001b[39m\u001b[38;5;241m=\u001b[39m \u001b[38;5;124m\"\u001b[39m\u001b[38;5;130;01m\\n\u001b[39;00m\u001b[38;5;124m\"\u001b[39m \u001b[38;5;241m+\u001b[39m \u001b[38;5;124m\"\u001b[39m\u001b[38;5;124mPontuação: \u001b[39m\u001b[38;5;124m\"\u001b[39m\u001b[38;5;241m+\u001b[39m \u001b[38;5;28mstr\u001b[39m(reward) \u001b[38;5;241m+\u001b[39m \u001b[38;5;124m\"\u001b[39m\u001b[38;5;124m Pesos: \u001b[39m\u001b[38;5;124m\"\u001b[39m \u001b[38;5;241m+\u001b[39m \u001b[38;5;28mstr\u001b[39m(weight)\n\u001b[0;32m     47\u001b[0m \u001b[38;5;28;01melif\u001b[39;00m stage \u001b[38;5;241m==\u001b[39m \u001b[38;5;124m'\u001b[39m\u001b[38;5;124mREVIEW\u001b[39m\u001b[38;5;124m'\u001b[39m:\n\u001b[1;32m---> 48\u001b[0m     \u001b[38;5;28;01mfor\u001b[39;00m reward, weight \u001b[38;5;129;01min\u001b[39;00m \u001b[38;5;28mzip\u001b[39m(\u001b[38;5;28;43mself\u001b[39;49m\u001b[38;5;241;43m.\u001b[39;49m\u001b[43mreviewer_reward_history\u001b[49m, \u001b[38;5;28mself\u001b[39m\u001b[38;5;241m.\u001b[39mreviewer_weights_history):\n\u001b[0;32m     49\u001b[0m         \u001b[38;5;28mself\u001b[39m\u001b[38;5;241m.\u001b[39mcurrent_prompt \u001b[38;5;241m+\u001b[39m\u001b[38;5;241m=\u001b[39m \u001b[38;5;124m\"\u001b[39m\u001b[38;5;130;01m\\n\u001b[39;00m\u001b[38;5;124m\"\u001b[39m \u001b[38;5;241m+\u001b[39m \u001b[38;5;124m\"\u001b[39m\u001b[38;5;124mPontuação: \u001b[39m\u001b[38;5;124m\"\u001b[39m\u001b[38;5;241m+\u001b[39m \u001b[38;5;28mstr\u001b[39m(reward) \u001b[38;5;241m+\u001b[39m \u001b[38;5;124m\"\u001b[39m\u001b[38;5;124m Pesos: \u001b[39m\u001b[38;5;124m\"\u001b[39m \u001b[38;5;241m+\u001b[39m \u001b[38;5;28mstr\u001b[39m(weight)\n",
      "\u001b[1;31mAttributeError\u001b[0m: 'Reviewer' object has no attribute 'reviewer_reward_history'"
     ]
    }
   ],
   "source": [
    "# Treinamento\n",
    "for epoch in range(50):\n",
    "    print(f\"\\n=== Epoch {epoch + 1} ===\")\n",
    "    for problem in problems:\n",
    "        env.train(problem)"
   ]
  },
  {
   "cell_type": "markdown",
   "metadata": {},
   "source": []
  },
  {
   "cell_type": "code",
   "execution_count": null,
   "metadata": {},
   "outputs": [],
   "source": [
    "# Teste após o treinamento\n",
    "for problem in problems:\n",
    "    env.test(problem)"
   ]
  }
 ],
 "metadata": {
  "kernelspec": {
   "display_name": "Python 3",
   "language": "python",
   "name": "python3"
  },
  "language_info": {
   "codemirror_mode": {
    "name": "ipython",
    "version": 3
   },
   "file_extension": ".py",
   "mimetype": "text/x-python",
   "name": "python",
   "nbconvert_exporter": "python",
   "pygments_lexer": "ipython3",
   "version": "3.11.9"
  }
 },
 "nbformat": 4,
 "nbformat_minor": 2
}
