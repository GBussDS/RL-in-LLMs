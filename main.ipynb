{
 "cells": [
  {
   "cell_type": "code",
   "execution_count": 1,
   "metadata": {},
   "outputs": [],
   "source": [
    "from ollama import Client\n",
    "from programmer import Programmer\n",
    "from reviewer import Reviewer\n",
    "from prompt_master import PromptMaster\n",
    "from code_trainer import CodeTrainer"
   ]
  },
  {
   "cell_type": "code",
   "execution_count": 2,
   "metadata": {},
   "outputs": [
    {
     "name": "stdout",
     "output_type": "stream",
     "text": [
      "{'Total': 75, 'clarity': 60, 'readability': 80, 'efficiency': 90, 'optimization': 70}\n",
      "{'Total': 85, 'clarity': 40, 'readability': 30, 'efficiency': 80, 'optimization': 60}\n",
      "{'Total': 81, 'clarity': 80, 'readability': 85, 'efficiency': 90, 'optimization': 70}\n",
      "{'Total': 76.8, 'clarity': 40, 'readability': 38, 'efficiency': 20, 'optimization': 18}\n",
      "{'Total': 85, 'clarity': 40, 'readability': 38, 'efficiency': 90, 'optimization': 80}\n",
      "{'Total': 89.2, 'clarity': 80, 'readability': 85, 'efficiency': 95, 'optimization': 90}\n",
      "{'Total': 16.67, 'clarity': 20, 'readability': 20, 'efficiency': 10, 'optimization': 5}\n",
      "{'Total': 87, 'clarity': 80, 'readability': 85, 'efficiency': 90, 'optimization': 85}\n",
      "{'Total': 50, 'clarity': 40, 'readability': 30, 'efficiency': 80, 'optimization': 0}\n",
      "{'Total': 84, 'clarity': 90, 'readability': 95, 'efficiency': 80, 'optimization': 70}\n"
     ]
    }
   ],
   "source": [
    "programmer = Programmer()\n",
    "reviewer = Reviewer()\n",
    "promptMaster = PromptMaster()\n",
    "\n",
    "main = CodeTrainer(programmer, reviewer, promptMaster)\n",
    "\n",
    "main.train('Given an array of integers nums and an integer target,\\\n",
    "            return indices of the two numbers such that they add up to target.\\\n",
    "            You may assume that each input would have exactly one solution,\\\n",
    "            and you may not use the same element twice. You can return the answer in any order.', 10)"
   ]
  },
  {
   "cell_type": "code",
   "execution_count": 4,
   "metadata": {},
   "outputs": [
    {
     "name": "stdout",
     "output_type": "stream",
     "text": [
      "With the score of {'Total': 81.25, 'clarity': 80, 'readability': 90, 'efficiency': 70, 'optimization': 50} the code written was:\n",
      "\n",
      "```python\n",
      "def two_sum(nums, target):\n",
      "    num_dict = {}\n",
      "    \n",
      "    for i, num in enumerate(nums):\n",
      "        if target - num in num_dict:\n",
      "            return [num_dict[target - num], i]\n",
      "        \n",
      "        num_dict[num] = i\n",
      "    \n",
      "    # This line should never be reached due to the problem's constraints\n",
      "    return []\n",
      "\n",
      "# Example usage:\n",
      "nums = [2, 7, 11, 15]\n",
      "target = 9\n",
      "\n",
      "result = two_sum(nums, target)\n",
      "print(result)  # Output: [0, 1]\n",
      "```\n"
     ]
    }
   ],
   "source": [
    "main.test('Given an array of integers nums and an integer target,\\\n",
    "            return indices of the two numbers such that they add up to target.\\\n",
    "            You may assume that each input would have exactly one solution,\\\n",
    "            and you may not use the same element twice. You can return the answer in any order.')"
   ]
  }
 ],
 "metadata": {
  "kernelspec": {
   "display_name": "Python 3",
   "language": "python",
   "name": "python3"
  },
  "language_info": {
   "codemirror_mode": {
    "name": "ipython",
    "version": 3
   },
   "file_extension": ".py",
   "mimetype": "text/x-python",
   "name": "python",
   "nbconvert_exporter": "python",
   "pygments_lexer": "ipython3",
   "version": "3.11.9"
  }
 },
 "nbformat": 4,
 "nbformat_minor": 2
}
